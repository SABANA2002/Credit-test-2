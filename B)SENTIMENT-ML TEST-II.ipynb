{
 "cells": [
  {
   "cell_type": "markdown",
   "id": "25cab881",
   "metadata": {},
   "source": [
    "<h3>IMPORT LIBRARIES</h3>"
   ]
  },
  {
   "cell_type": "code",
   "execution_count": 1,
   "id": "201ef215",
   "metadata": {},
   "outputs": [],
   "source": [
    "import numpy as np\n",
    "import pandas as pd\n",
    "import tensorflow as tf\n",
    "from tensorflow import keras\n",
    "from sklearn.model_selection import train_test_split"
   ]
  },
  {
   "cell_type": "markdown",
   "id": "79b0ade3",
   "metadata": {},
   "source": [
    "<h3>IMPORT DATASET</h3>"
   ]
  },
  {
   "cell_type": "code",
   "execution_count": 3,
   "id": "1517d496",
   "metadata": {},
   "outputs": [],
   "source": [
    "df = pd.read_csv('C:/Users/HP/Documents/Sentiment.csv')"
   ]
  },
  {
   "cell_type": "code",
   "execution_count": 4,
   "id": "f0c9dd28",
   "metadata": {},
   "outputs": [
    {
     "data": {
      "text/html": [
       "<div>\n",
       "<style scoped>\n",
       "    .dataframe tbody tr th:only-of-type {\n",
       "        vertical-align: middle;\n",
       "    }\n",
       "\n",
       "    .dataframe tbody tr th {\n",
       "        vertical-align: top;\n",
       "    }\n",
       "\n",
       "    .dataframe thead th {\n",
       "        text-align: right;\n",
       "    }\n",
       "</style>\n",
       "<table border=\"1\" class=\"dataframe\">\n",
       "  <thead>\n",
       "    <tr style=\"text-align: right;\">\n",
       "      <th></th>\n",
       "      <th>id</th>\n",
       "      <th>candidate</th>\n",
       "      <th>candidate_confidence</th>\n",
       "      <th>relevant_yn</th>\n",
       "      <th>relevant_yn_confidence</th>\n",
       "      <th>sentiment</th>\n",
       "      <th>sentiment_confidence</th>\n",
       "      <th>subject_matter</th>\n",
       "      <th>subject_matter_confidence</th>\n",
       "      <th>candidate_gold</th>\n",
       "      <th>...</th>\n",
       "      <th>relevant_yn_gold</th>\n",
       "      <th>retweet_count</th>\n",
       "      <th>sentiment_gold</th>\n",
       "      <th>subject_matter_gold</th>\n",
       "      <th>text</th>\n",
       "      <th>tweet_coord</th>\n",
       "      <th>tweet_created</th>\n",
       "      <th>tweet_id</th>\n",
       "      <th>tweet_location</th>\n",
       "      <th>user_timezone</th>\n",
       "    </tr>\n",
       "  </thead>\n",
       "  <tbody>\n",
       "    <tr>\n",
       "      <th>0</th>\n",
       "      <td>1</td>\n",
       "      <td>No candidate mentioned</td>\n",
       "      <td>1.0</td>\n",
       "      <td>yes</td>\n",
       "      <td>1.0</td>\n",
       "      <td>Neutral</td>\n",
       "      <td>0.6578</td>\n",
       "      <td>None of the above</td>\n",
       "      <td>1.0000</td>\n",
       "      <td>NaN</td>\n",
       "      <td>...</td>\n",
       "      <td>NaN</td>\n",
       "      <td>5</td>\n",
       "      <td>NaN</td>\n",
       "      <td>NaN</td>\n",
       "      <td>RT @NancyLeeGrahn: How did everyone feel about...</td>\n",
       "      <td>NaN</td>\n",
       "      <td>2015-08-07 09:54:46 -0700</td>\n",
       "      <td>629697200650592256</td>\n",
       "      <td>NaN</td>\n",
       "      <td>Quito</td>\n",
       "    </tr>\n",
       "    <tr>\n",
       "      <th>1</th>\n",
       "      <td>2</td>\n",
       "      <td>Scott Walker</td>\n",
       "      <td>1.0</td>\n",
       "      <td>yes</td>\n",
       "      <td>1.0</td>\n",
       "      <td>Positive</td>\n",
       "      <td>0.6333</td>\n",
       "      <td>None of the above</td>\n",
       "      <td>1.0000</td>\n",
       "      <td>NaN</td>\n",
       "      <td>...</td>\n",
       "      <td>NaN</td>\n",
       "      <td>26</td>\n",
       "      <td>NaN</td>\n",
       "      <td>NaN</td>\n",
       "      <td>RT @ScottWalker: Didn't catch the full #GOPdeb...</td>\n",
       "      <td>NaN</td>\n",
       "      <td>2015-08-07 09:54:46 -0700</td>\n",
       "      <td>629697199560069120</td>\n",
       "      <td>NaN</td>\n",
       "      <td>NaN</td>\n",
       "    </tr>\n",
       "    <tr>\n",
       "      <th>2</th>\n",
       "      <td>3</td>\n",
       "      <td>No candidate mentioned</td>\n",
       "      <td>1.0</td>\n",
       "      <td>yes</td>\n",
       "      <td>1.0</td>\n",
       "      <td>Neutral</td>\n",
       "      <td>0.6629</td>\n",
       "      <td>None of the above</td>\n",
       "      <td>0.6629</td>\n",
       "      <td>NaN</td>\n",
       "      <td>...</td>\n",
       "      <td>NaN</td>\n",
       "      <td>27</td>\n",
       "      <td>NaN</td>\n",
       "      <td>NaN</td>\n",
       "      <td>RT @TJMShow: No mention of Tamir Rice and the ...</td>\n",
       "      <td>NaN</td>\n",
       "      <td>2015-08-07 09:54:46 -0700</td>\n",
       "      <td>629697199312482304</td>\n",
       "      <td>NaN</td>\n",
       "      <td>NaN</td>\n",
       "    </tr>\n",
       "    <tr>\n",
       "      <th>3</th>\n",
       "      <td>4</td>\n",
       "      <td>No candidate mentioned</td>\n",
       "      <td>1.0</td>\n",
       "      <td>yes</td>\n",
       "      <td>1.0</td>\n",
       "      <td>Positive</td>\n",
       "      <td>1.0000</td>\n",
       "      <td>None of the above</td>\n",
       "      <td>0.7039</td>\n",
       "      <td>NaN</td>\n",
       "      <td>...</td>\n",
       "      <td>NaN</td>\n",
       "      <td>138</td>\n",
       "      <td>NaN</td>\n",
       "      <td>NaN</td>\n",
       "      <td>RT @RobGeorge: That Carly Fiorina is trending ...</td>\n",
       "      <td>NaN</td>\n",
       "      <td>2015-08-07 09:54:45 -0700</td>\n",
       "      <td>629697197118861312</td>\n",
       "      <td>Texas</td>\n",
       "      <td>Central Time (US &amp; Canada)</td>\n",
       "    </tr>\n",
       "    <tr>\n",
       "      <th>4</th>\n",
       "      <td>5</td>\n",
       "      <td>Donald Trump</td>\n",
       "      <td>1.0</td>\n",
       "      <td>yes</td>\n",
       "      <td>1.0</td>\n",
       "      <td>Positive</td>\n",
       "      <td>0.7045</td>\n",
       "      <td>None of the above</td>\n",
       "      <td>1.0000</td>\n",
       "      <td>NaN</td>\n",
       "      <td>...</td>\n",
       "      <td>NaN</td>\n",
       "      <td>156</td>\n",
       "      <td>NaN</td>\n",
       "      <td>NaN</td>\n",
       "      <td>RT @DanScavino: #GOPDebate w/ @realDonaldTrump...</td>\n",
       "      <td>NaN</td>\n",
       "      <td>2015-08-07 09:54:45 -0700</td>\n",
       "      <td>629697196967903232</td>\n",
       "      <td>NaN</td>\n",
       "      <td>Arizona</td>\n",
       "    </tr>\n",
       "  </tbody>\n",
       "</table>\n",
       "<p>5 rows × 21 columns</p>\n",
       "</div>"
      ],
      "text/plain": [
       "   id               candidate  candidate_confidence relevant_yn  \\\n",
       "0   1  No candidate mentioned                   1.0         yes   \n",
       "1   2            Scott Walker                   1.0         yes   \n",
       "2   3  No candidate mentioned                   1.0         yes   \n",
       "3   4  No candidate mentioned                   1.0         yes   \n",
       "4   5            Donald Trump                   1.0         yes   \n",
       "\n",
       "   relevant_yn_confidence sentiment  sentiment_confidence     subject_matter  \\\n",
       "0                     1.0   Neutral                0.6578  None of the above   \n",
       "1                     1.0  Positive                0.6333  None of the above   \n",
       "2                     1.0   Neutral                0.6629  None of the above   \n",
       "3                     1.0  Positive                1.0000  None of the above   \n",
       "4                     1.0  Positive                0.7045  None of the above   \n",
       "\n",
       "   subject_matter_confidence candidate_gold  ... relevant_yn_gold  \\\n",
       "0                     1.0000            NaN  ...              NaN   \n",
       "1                     1.0000            NaN  ...              NaN   \n",
       "2                     0.6629            NaN  ...              NaN   \n",
       "3                     0.7039            NaN  ...              NaN   \n",
       "4                     1.0000            NaN  ...              NaN   \n",
       "\n",
       "  retweet_count  sentiment_gold subject_matter_gold  \\\n",
       "0             5             NaN                 NaN   \n",
       "1            26             NaN                 NaN   \n",
       "2            27             NaN                 NaN   \n",
       "3           138             NaN                 NaN   \n",
       "4           156             NaN                 NaN   \n",
       "\n",
       "                                                text tweet_coord  \\\n",
       "0  RT @NancyLeeGrahn: How did everyone feel about...         NaN   \n",
       "1  RT @ScottWalker: Didn't catch the full #GOPdeb...         NaN   \n",
       "2  RT @TJMShow: No mention of Tamir Rice and the ...         NaN   \n",
       "3  RT @RobGeorge: That Carly Fiorina is trending ...         NaN   \n",
       "4  RT @DanScavino: #GOPDebate w/ @realDonaldTrump...         NaN   \n",
       "\n",
       "               tweet_created            tweet_id  tweet_location  \\\n",
       "0  2015-08-07 09:54:46 -0700  629697200650592256             NaN   \n",
       "1  2015-08-07 09:54:46 -0700  629697199560069120             NaN   \n",
       "2  2015-08-07 09:54:46 -0700  629697199312482304             NaN   \n",
       "3  2015-08-07 09:54:45 -0700  629697197118861312           Texas   \n",
       "4  2015-08-07 09:54:45 -0700  629697196967903232             NaN   \n",
       "\n",
       "                user_timezone  \n",
       "0                       Quito  \n",
       "1                         NaN  \n",
       "2                         NaN  \n",
       "3  Central Time (US & Canada)  \n",
       "4                     Arizona  \n",
       "\n",
       "[5 rows x 21 columns]"
      ]
     },
     "execution_count": 4,
     "metadata": {},
     "output_type": "execute_result"
    }
   ],
   "source": [
    "df.head()"
   ]
  },
  {
   "cell_type": "code",
   "execution_count": 5,
   "id": "42c0dee2",
   "metadata": {},
   "outputs": [
    {
     "data": {
      "text/html": [
       "<div>\n",
       "<style scoped>\n",
       "    .dataframe tbody tr th:only-of-type {\n",
       "        vertical-align: middle;\n",
       "    }\n",
       "\n",
       "    .dataframe tbody tr th {\n",
       "        vertical-align: top;\n",
       "    }\n",
       "\n",
       "    .dataframe thead th {\n",
       "        text-align: right;\n",
       "    }\n",
       "</style>\n",
       "<table border=\"1\" class=\"dataframe\">\n",
       "  <thead>\n",
       "    <tr style=\"text-align: right;\">\n",
       "      <th></th>\n",
       "      <th>count</th>\n",
       "      <th>mean</th>\n",
       "      <th>std</th>\n",
       "      <th>min</th>\n",
       "      <th>25%</th>\n",
       "      <th>50%</th>\n",
       "      <th>75%</th>\n",
       "      <th>max</th>\n",
       "    </tr>\n",
       "  </thead>\n",
       "  <tbody>\n",
       "    <tr>\n",
       "      <th>id</th>\n",
       "      <td>13871.0</td>\n",
       "      <td>6.936000e+03</td>\n",
       "      <td>4.004357e+03</td>\n",
       "      <td>1.000000e+00</td>\n",
       "      <td>3.468500e+03</td>\n",
       "      <td>6.936000e+03</td>\n",
       "      <td>1.040350e+04</td>\n",
       "      <td>1.387100e+04</td>\n",
       "    </tr>\n",
       "    <tr>\n",
       "      <th>candidate_confidence</th>\n",
       "      <td>13871.0</td>\n",
       "      <td>8.556889e-01</td>\n",
       "      <td>2.413880e-01</td>\n",
       "      <td>2.222000e-01</td>\n",
       "      <td>6.742000e-01</td>\n",
       "      <td>1.000000e+00</td>\n",
       "      <td>1.000000e+00</td>\n",
       "      <td>1.000000e+00</td>\n",
       "    </tr>\n",
       "    <tr>\n",
       "      <th>relevant_yn_confidence</th>\n",
       "      <td>13871.0</td>\n",
       "      <td>9.273036e-01</td>\n",
       "      <td>1.416959e-01</td>\n",
       "      <td>3.333000e-01</td>\n",
       "      <td>1.000000e+00</td>\n",
       "      <td>1.000000e+00</td>\n",
       "      <td>1.000000e+00</td>\n",
       "      <td>1.000000e+00</td>\n",
       "    </tr>\n",
       "    <tr>\n",
       "      <th>sentiment_confidence</th>\n",
       "      <td>13871.0</td>\n",
       "      <td>7.569360e-01</td>\n",
       "      <td>2.176821e-01</td>\n",
       "      <td>1.860000e-01</td>\n",
       "      <td>6.517000e-01</td>\n",
       "      <td>6.813000e-01</td>\n",
       "      <td>1.000000e+00</td>\n",
       "      <td>1.000000e+00</td>\n",
       "    </tr>\n",
       "    <tr>\n",
       "      <th>subject_matter_confidence</th>\n",
       "      <td>13871.0</td>\n",
       "      <td>7.828012e-01</td>\n",
       "      <td>2.582150e-01</td>\n",
       "      <td>2.222000e-01</td>\n",
       "      <td>6.413000e-01</td>\n",
       "      <td>1.000000e+00</td>\n",
       "      <td>1.000000e+00</td>\n",
       "      <td>1.000000e+00</td>\n",
       "    </tr>\n",
       "    <tr>\n",
       "      <th>retweet_count</th>\n",
       "      <td>13871.0</td>\n",
       "      <td>4.580333e+01</td>\n",
       "      <td>1.539817e+02</td>\n",
       "      <td>0.000000e+00</td>\n",
       "      <td>0.000000e+00</td>\n",
       "      <td>2.000000e+00</td>\n",
       "      <td>4.400000e+01</td>\n",
       "      <td>4.965000e+03</td>\n",
       "    </tr>\n",
       "    <tr>\n",
       "      <th>tweet_id</th>\n",
       "      <td>13871.0</td>\n",
       "      <td>6.296058e+17</td>\n",
       "      <td>9.611863e+13</td>\n",
       "      <td>6.294531e+17</td>\n",
       "      <td>6.294861e+17</td>\n",
       "      <td>6.296726e+17</td>\n",
       "      <td>6.296882e+17</td>\n",
       "      <td>6.297017e+17</td>\n",
       "    </tr>\n",
       "  </tbody>\n",
       "</table>\n",
       "</div>"
      ],
      "text/plain": [
       "                             count          mean           std           min  \\\n",
       "id                         13871.0  6.936000e+03  4.004357e+03  1.000000e+00   \n",
       "candidate_confidence       13871.0  8.556889e-01  2.413880e-01  2.222000e-01   \n",
       "relevant_yn_confidence     13871.0  9.273036e-01  1.416959e-01  3.333000e-01   \n",
       "sentiment_confidence       13871.0  7.569360e-01  2.176821e-01  1.860000e-01   \n",
       "subject_matter_confidence  13871.0  7.828012e-01  2.582150e-01  2.222000e-01   \n",
       "retweet_count              13871.0  4.580333e+01  1.539817e+02  0.000000e+00   \n",
       "tweet_id                   13871.0  6.296058e+17  9.611863e+13  6.294531e+17   \n",
       "\n",
       "                                    25%           50%           75%  \\\n",
       "id                         3.468500e+03  6.936000e+03  1.040350e+04   \n",
       "candidate_confidence       6.742000e-01  1.000000e+00  1.000000e+00   \n",
       "relevant_yn_confidence     1.000000e+00  1.000000e+00  1.000000e+00   \n",
       "sentiment_confidence       6.517000e-01  6.813000e-01  1.000000e+00   \n",
       "subject_matter_confidence  6.413000e-01  1.000000e+00  1.000000e+00   \n",
       "retweet_count              0.000000e+00  2.000000e+00  4.400000e+01   \n",
       "tweet_id                   6.294861e+17  6.296726e+17  6.296882e+17   \n",
       "\n",
       "                                    max  \n",
       "id                         1.387100e+04  \n",
       "candidate_confidence       1.000000e+00  \n",
       "relevant_yn_confidence     1.000000e+00  \n",
       "sentiment_confidence       1.000000e+00  \n",
       "subject_matter_confidence  1.000000e+00  \n",
       "retweet_count              4.965000e+03  \n",
       "tweet_id                   6.297017e+17  "
      ]
     },
     "execution_count": 5,
     "metadata": {},
     "output_type": "execute_result"
    }
   ],
   "source": [
    "df.describe().transpose()"
   ]
  },
  {
   "cell_type": "code",
   "execution_count": 6,
   "id": "d290b78e",
   "metadata": {},
   "outputs": [
    {
     "data": {
      "text/plain": [
       "0        RT @NancyLeeGrahn: How did everyone feel about...\n",
       "1        RT @ScottWalker: Didn't catch the full #GOPdeb...\n",
       "2        RT @TJMShow: No mention of Tamir Rice and the ...\n",
       "3        RT @RobGeorge: That Carly Fiorina is trending ...\n",
       "4        RT @DanScavino: #GOPDebate w/ @realDonaldTrump...\n",
       "                               ...                        \n",
       "13866    RT @cappy_yarbrough: Love to see men who will ...\n",
       "13867    RT @georgehenryw: Who thought Huckabee exceede...\n",
       "13868    RT @Lrihendry: #TedCruz As President, I will a...\n",
       "13869    RT @JRehling: #GOPDebate Donald Trump says tha...\n",
       "13870    RT @Lrihendry: #TedCruz headed into the Presid...\n",
       "Name: text, Length: 13871, dtype: object"
      ]
     },
     "execution_count": 6,
     "metadata": {},
     "output_type": "execute_result"
    }
   ],
   "source": [
    "df['text']"
   ]
  },
  {
   "cell_type": "code",
   "execution_count": 7,
   "id": "24e7a2a9",
   "metadata": {},
   "outputs": [
    {
     "data": {
      "text/plain": [
       "array(['Neutral', 'Positive', 'Negative'], dtype=object)"
      ]
     },
     "execution_count": 7,
     "metadata": {},
     "output_type": "execute_result"
    }
   ],
   "source": [
    "df[\"sentiment\"].unique()"
   ]
  },
  {
   "cell_type": "code",
   "execution_count": 8,
   "id": "7c6526a2",
   "metadata": {},
   "outputs": [
    {
     "data": {
      "text/plain": [
       "array(['Positive', 'Negative'], dtype=object)"
      ]
     },
     "execution_count": 8,
     "metadata": {},
     "output_type": "execute_result"
    }
   ],
   "source": [
    "df = df[df.sentiment != 'Neutral']\n",
    "df['sentiment'].unique()"
   ]
  },
  {
   "cell_type": "markdown",
   "id": "7802cecf",
   "metadata": {},
   "source": [
    "<h1>Q1. Print the total number of positive and negative sentiments</h3>"
   ]
  },
  {
   "cell_type": "code",
   "execution_count": 9,
   "id": "09f00307",
   "metadata": {},
   "outputs": [
    {
     "data": {
      "text/plain": [
       "Negative    8493\n",
       "Positive    2236\n",
       "Name: sentiment, dtype: int64"
      ]
     },
     "execution_count": 9,
     "metadata": {},
     "output_type": "execute_result"
    }
   ],
   "source": [
    "df['sentiment'].value_counts()"
   ]
  },
  {
   "cell_type": "markdown",
   "id": "64b67634",
   "metadata": {},
   "source": [
    "<h3>Q2. Build a sequential LSTM model to predict positive and negative sentiments</h3>"
   ]
  },
  {
   "cell_type": "code",
   "execution_count": 10,
   "id": "d2b35ba5",
   "metadata": {},
   "outputs": [],
   "source": [
    "max_features= 2000\n",
    "tokenizer = keras.preprocessing.text.Tokenizer(num_words=max_features , split=' ')\n",
    "tokenizer.fit_on_texts(df['text'].values)\n",
    "x = tokenizer.texts_to_sequences(df['text'].values)\n",
    "x = keras.preprocessing.sequence.pad_sequences(x)"
   ]
  },
  {
   "cell_type": "code",
   "execution_count": 11,
   "id": "ae7ebf23",
   "metadata": {},
   "outputs": [],
   "source": [
    "y = pd.get_dummies(df['sentiment']).values\n",
    "validation_size = 1500\n",
    "train_x , test_x , train_y , test_y = train_test_split(x , y , test_size = 0.2 , random_state = 108 , shuffle = True)\n",
    "x_valid , y_valid = test_x[:validation_size] , test_y[:validation_size]\n",
    "test_x , test_y = test_x[validation_size:] , test_y[validation_size:]"
   ]
  },
  {
   "cell_type": "code",
   "execution_count": 12,
   "id": "61576e41",
   "metadata": {},
   "outputs": [],
   "source": [
    "embed_dim = 128\n",
    "lstm_out = 196\n",
    "model = keras.models.Sequential([\n",
    "    keras.layers.Embedding(max_features , embed_dim , input_length = x.shape[1]),\n",
    "    keras.layers.SpatialDropout1D(0.3),\n",
    "    keras.layers.LSTM(lstm_out , dropout = 0.2 , recurrent_dropout = 0.2),\n",
    "    keras.layers.Dense(2 , activation = 'softmax')\n",
    "])\n",
    "model.compile(loss = 'categorical_crossentropy' , optimizer = 'adam' , metrics = ['accuracy'])"
   ]
  },
  {
   "cell_type": "markdown",
   "id": "62133580",
   "metadata": {},
   "source": [
    "<h3>Summary</h3>"
   ]
  },
  {
   "cell_type": "code",
   "execution_count": 13,
   "id": "90d06754",
   "metadata": {},
   "outputs": [
    {
     "name": "stdout",
     "output_type": "stream",
     "text": [
      "Model: \"sequential\"\n",
      "_________________________________________________________________\n",
      " Layer (type)                Output Shape              Param #   \n",
      "=================================================================\n",
      " embedding (Embedding)       (None, 29, 128)           256000    \n",
      "                                                                 \n",
      " spatial_dropout1d (SpatialD  (None, 29, 128)          0         \n",
      " ropout1D)                                                       \n",
      "                                                                 \n",
      " lstm (LSTM)                 (None, 196)               254800    \n",
      "                                                                 \n",
      " dense (Dense)               (None, 2)                 394       \n",
      "                                                                 \n",
      "=================================================================\n",
      "Total params: 511,194\n",
      "Trainable params: 511,194\n",
      "Non-trainable params: 0\n",
      "_________________________________________________________________\n"
     ]
    }
   ],
   "source": [
    "model.summary()"
   ]
  },
  {
   "cell_type": "code",
   "execution_count": 14,
   "id": "6b3c2eb5",
   "metadata": {},
   "outputs": [
    {
     "name": "stdout",
     "output_type": "stream",
     "text": [
      "Epoch 1/10\n",
      "269/269 - 58s - loss: 0.4148 - accuracy: 0.8247 - val_loss: 0.3858 - val_accuracy: 0.8493 - 58s/epoch - 215ms/step\n",
      "Epoch 2/10\n",
      "269/269 - 46s - loss: 0.3101 - accuracy: 0.8735 - val_loss: 0.3518 - val_accuracy: 0.8453 - 46s/epoch - 172ms/step\n",
      "Epoch 3/10\n",
      "269/269 - 47s - loss: 0.2693 - accuracy: 0.8848 - val_loss: 0.3540 - val_accuracy: 0.8560 - 47s/epoch - 176ms/step\n",
      "Epoch 4/10\n",
      "269/269 - 49s - loss: 0.2409 - accuracy: 0.8996 - val_loss: 0.4165 - val_accuracy: 0.8413 - 49s/epoch - 184ms/step\n",
      "Epoch 5/10\n",
      "269/269 - 48s - loss: 0.2147 - accuracy: 0.9115 - val_loss: 0.4055 - val_accuracy: 0.8467 - 48s/epoch - 179ms/step\n",
      "Epoch 6/10\n",
      "269/269 - 48s - loss: 0.1896 - accuracy: 0.9200 - val_loss: 0.4412 - val_accuracy: 0.8340 - 48s/epoch - 180ms/step\n",
      "Epoch 7/10\n",
      "269/269 - 49s - loss: 0.1688 - accuracy: 0.9288 - val_loss: 0.4960 - val_accuracy: 0.8380 - 49s/epoch - 183ms/step\n",
      "Epoch 8/10\n",
      "269/269 - 48s - loss: 0.1530 - accuracy: 0.9358 - val_loss: 0.5776 - val_accuracy: 0.8413 - 48s/epoch - 180ms/step\n",
      "Epoch 9/10\n",
      "269/269 - 45s - loss: 0.1413 - accuracy: 0.9401 - val_loss: 0.5420 - val_accuracy: 0.8433 - 45s/epoch - 167ms/step\n",
      "Epoch 10/10\n",
      "269/269 - 46s - loss: 0.1281 - accuracy: 0.9438 - val_loss: 0.5496 - val_accuracy: 0.8367 - 46s/epoch - 170ms/step\n"
     ]
    },
    {
     "data": {
      "text/plain": [
       "<keras.callbacks.History at 0x2126bfeffd0>"
      ]
     },
     "execution_count": 14,
     "metadata": {},
     "output_type": "execute_result"
    }
   ],
   "source": [
    "model.fit(train_x , train_y , batch_size = 32 , epochs = 10 ,verbose = 2,  validation_data=(x_valid , y_valid))"
   ]
  },
  {
   "cell_type": "markdown",
   "id": "c8da7d22",
   "metadata": {},
   "source": [
    "<h3>Q3.Based on the model, check the sentiment for the following two sentences\n",
    "a.'He is a great leader.'\n",
    "b.'He is a terrible leader.'</h3>"
   ]
  },
  {
   "cell_type": "code",
   "execution_count": 15,
   "id": "80df330d",
   "metadata": {},
   "outputs": [],
   "source": [
    "def check(a):\n",
    "    a = tokenizer.texts_to_sequences(a)\n",
    "    a = keras.preprocessing.sequence.pad_sequences(a , maxlen= 29 , dtype = 'int32' , value = 0)\n",
    "    sentiment = model.predict(a , batch_size = None , verbose = 2)[0]\n",
    "    if(np.argmax(sentiment) == 0):\n",
    "        print(\"negative\")\n",
    "    elif (np.argmax(sentiment) == 1):\n",
    "        print(\"positive\")"
   ]
  },
  {
   "cell_type": "code",
   "execution_count": 16,
   "id": "e07ec5f1",
   "metadata": {},
   "outputs": [],
   "source": [
    "a = 'He is a great leader.'\n",
    "b = 'He is a terrible leader'"
   ]
  },
  {
   "cell_type": "code",
   "execution_count": 17,
   "id": "82d25237",
   "metadata": {},
   "outputs": [
    {
     "name": "stdout",
     "output_type": "stream",
     "text": [
      "1/1 - 1s - 540ms/epoch - 540ms/step\n",
      "negative\n"
     ]
    }
   ],
   "source": [
    "check(a)"
   ]
  },
  {
   "cell_type": "code",
   "execution_count": 18,
   "id": "88f7822e",
   "metadata": {},
   "outputs": [
    {
     "name": "stdout",
     "output_type": "stream",
     "text": [
      "1/1 - 0s - 47ms/epoch - 47ms/step\n",
      "negative\n"
     ]
    }
   ],
   "source": [
    "check(b)"
   ]
  }
 ],
 "metadata": {
  "kernelspec": {
   "display_name": "Python 3 (ipykernel)",
   "language": "python",
   "name": "python3"
  },
  "language_info": {
   "codemirror_mode": {
    "name": "ipython",
    "version": 3
   },
   "file_extension": ".py",
   "mimetype": "text/x-python",
   "name": "python",
   "nbconvert_exporter": "python",
   "pygments_lexer": "ipython3",
   "version": "3.9.7"
  }
 },
 "nbformat": 4,
 "nbformat_minor": 5
}
